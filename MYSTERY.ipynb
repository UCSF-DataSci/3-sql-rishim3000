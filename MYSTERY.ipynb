{
 "cells": [
  {
   "cell_type": "markdown",
   "id": "ebb94371",
   "metadata": {},
   "source": [
    "# SQL Murder Mystery\n",
    "\n",
    "## Can you find out whodunnit?\n",
    "\n",
    "![A decorative illustration of a detective looking at an evidence board.](https://mystery.knightlab.com/174092-clue-illustration.png)\n",
    "\n",
    "There's been a Murder in SQL City! The SQL Murder Mystery is designed to be both a self-directed lesson to learn SQL concepts and commands and a fun game for experienced SQL users to solve an intriguing crime.\n",
    "\n",
    "## SQL sleuths start here\n",
    "\n",
    "A crime has taken place and the detective needs your help. The detective gave you the crime scene report, but you somehow lost it. You vaguely remember that the crime was a **​murder​**that occurred sometime on ​**Jan.15, 2018​** and that it took place in ​**SQL City​**. Start by retrieving the corresponding crime scene report from the police department’s database.\n",
    "\n",
    "### Exploring the Database Structure\n",
    "\n",
    "Experienced SQL users can often use database queries to infer the structure of a database. But each database system has different ways of managing this information. The SQL Murder Mystery is built using SQLite. Use this SQL command to find the tables in the Murder Mystery database.\n",
    "\n",
    "Run this query to find the names of the tables in this database.\n",
    "\n",
    "This command is specific to SQLite. For other databases, you'll have to learn their specific syntax.\n"
   ]
  },
  {
   "cell_type": "code",
   "execution_count": 2,
   "id": "c217bf23",
   "metadata": {},
   "outputs": [
    {
     "name": "stdout",
     "output_type": "stream",
     "text": [
      "Note: you may need to restart the kernel to use updated packages.\n"
     ]
    }
   ],
   "source": [
    "%pip install pandas jupysql --quiet"
   ]
  },
  {
   "cell_type": "code",
   "execution_count": 3,
   "id": "227a4218",
   "metadata": {},
   "outputs": [],
   "source": [
    "%load_ext sql"
   ]
  },
  {
   "cell_type": "code",
   "execution_count": 4,
   "id": "1c5f2d77",
   "metadata": {},
   "outputs": [
    {
     "data": {
      "text/html": [
       "<span style=\"None\">Connecting to &#x27;sqlite:///sql-murder-mystery.db&#x27;</span>"
      ],
      "text/plain": [
       "Connecting to 'sqlite:///sql-murder-mystery.db'"
      ]
     },
     "metadata": {},
     "output_type": "display_data"
    }
   ],
   "source": [
    "%sql sqlite:///sql-murder-mystery.db"
   ]
  },
  {
   "cell_type": "code",
   "execution_count": 5,
   "id": "2f0d9254",
   "metadata": {},
   "outputs": [
    {
     "data": {
      "text/html": [
       "<span style=\"None\">Running query in &#x27;sqlite:///sql-murder-mystery.db&#x27;</span>"
      ],
      "text/plain": [
       "Running query in 'sqlite:///sql-murder-mystery.db'"
      ]
     },
     "metadata": {},
     "output_type": "display_data"
    },
    {
     "data": {
      "text/html": [
       "<table>\n",
       "    <thead>\n",
       "        <tr>\n",
       "            <th>type</th>\n",
       "            <th>name</th>\n",
       "            <th>tbl_name</th>\n",
       "            <th>rootpage</th>\n",
       "            <th>sql</th>\n",
       "        </tr>\n",
       "    </thead>\n",
       "    <tbody>\n",
       "        <tr>\n",
       "            <td>table</td>\n",
       "            <td>crime_scene_report</td>\n",
       "            <td>crime_scene_report</td>\n",
       "            <td>2</td>\n",
       "            <td>CREATE TABLE crime_scene_report (<br>        date integer,<br>        type text,<br>        description text,<br>        city text<br>    )</td>\n",
       "        </tr>\n",
       "        <tr>\n",
       "            <td>table</td>\n",
       "            <td>drivers_license</td>\n",
       "            <td>drivers_license</td>\n",
       "            <td>3</td>\n",
       "            <td>CREATE TABLE drivers_license (<br>        id integer PRIMARY KEY,<br>        age integer,<br>        height integer,<br>        eye_color text,<br>        hair_color text,<br>        gender text,<br>        plate_number text,<br>        car_make text,<br>        car_model text<br>    )</td>\n",
       "        </tr>\n",
       "        <tr>\n",
       "            <td>table</td>\n",
       "            <td>facebook_event_checkin</td>\n",
       "            <td>facebook_event_checkin</td>\n",
       "            <td>5</td>\n",
       "            <td>CREATE TABLE facebook_event_checkin (<br>        person_id integer,<br>        event_id integer,<br>        event_name text,<br>        date integer,<br>        FOREIGN KEY (person_id) REFERENCES person(id)<br>    )</td>\n",
       "        </tr>\n",
       "        <tr>\n",
       "            <td>table</td>\n",
       "            <td>interview</td>\n",
       "            <td>interview</td>\n",
       "            <td>6</td>\n",
       "            <td>CREATE TABLE interview (<br>        person_id integer,<br>        transcript text,<br>        FOREIGN KEY (person_id) REFERENCES person(id)<br>    )</td>\n",
       "        </tr>\n",
       "        <tr>\n",
       "            <td>table</td>\n",
       "            <td>get_fit_now_member</td>\n",
       "            <td>get_fit_now_member</td>\n",
       "            <td>7</td>\n",
       "            <td>CREATE TABLE get_fit_now_member (<br>        id text PRIMARY KEY,<br>        person_id integer,<br>        name text,<br>        membership_start_date integer,<br>        membership_status text,<br>        FOREIGN KEY (person_id) REFERENCES person(id)<br>    )</td>\n",
       "        </tr>\n",
       "        <tr>\n",
       "            <td>table</td>\n",
       "            <td>get_fit_now_check_in</td>\n",
       "            <td>get_fit_now_check_in</td>\n",
       "            <td>9</td>\n",
       "            <td>CREATE TABLE get_fit_now_check_in (<br>        membership_id text,<br>        check_in_date integer,<br>        check_in_time integer,<br>        check_out_time integer,<br>        FOREIGN KEY (membership_id) REFERENCES get_fit_now_member(id)<br>    )</td>\n",
       "        </tr>\n",
       "        <tr>\n",
       "            <td>table</td>\n",
       "            <td>solution</td>\n",
       "            <td>solution</td>\n",
       "            <td>11</td>\n",
       "            <td>CREATE TABLE solution (<br>        user integer,<br>        value text<br>    )</td>\n",
       "        </tr>\n",
       "        <tr>\n",
       "            <td>table</td>\n",
       "            <td>income</td>\n",
       "            <td>income</td>\n",
       "            <td>10</td>\n",
       "            <td>CREATE TABLE income (ssn CHAR PRIMARY KEY, annual_income integer)</td>\n",
       "        </tr>\n",
       "        <tr>\n",
       "            <td>table</td>\n",
       "            <td>person</td>\n",
       "            <td>person</td>\n",
       "            <td>4</td>\n",
       "            <td>CREATE TABLE person (id integer PRIMARY KEY, name text, license_id integer, address_number integer, address_street_name text, ssn CHAR REFERENCES income (ssn), FOREIGN KEY (license_id) REFERENCES drivers_license (id))</td>\n",
       "        </tr>\n",
       "    </tbody>\n",
       "</table>"
      ],
      "text/plain": [
       "+-------+------------------------+------------------------+----------+---------------------------------------------------------------------------------------------------------------------------------------------------------------------------------------------------------------------------+\n",
       "|  type |          name          |        tbl_name        | rootpage |                                                                                                            sql                                                                                                            |\n",
       "+-------+------------------------+------------------------+----------+---------------------------------------------------------------------------------------------------------------------------------------------------------------------------------------------------------------------------+\n",
       "| table |   crime_scene_report   |   crime_scene_report   |    2     |                                                                                             CREATE TABLE crime_scene_report (                                                                                             |\n",
       "|       |                        |                        |          |                                                                                                           date integer,                                                                                                   |\n",
       "|       |                        |                        |          |                                                                                                             type text,                                                                                                    |\n",
       "|       |                        |                        |          |                                                                                                         description text,                                                                                                 |\n",
       "|       |                        |                        |          |                                                                                                             city text                                                                                                     |\n",
       "|       |                        |                        |          |                                                                                                               )                                                                                                           |\n",
       "| table |    drivers_license     |    drivers_license     |    3     |                                                                                               CREATE TABLE drivers_license (                                                                                              |\n",
       "|       |                        |                        |          |                                                                                                      id integer PRIMARY KEY,                                                                                              |\n",
       "|       |                        |                        |          |                                                                                                            age integer,                                                                                                   |\n",
       "|       |                        |                        |          |                                                                                                          height integer,                                                                                                  |\n",
       "|       |                        |                        |          |                                                                                                          eye_color text,                                                                                                  |\n",
       "|       |                        |                        |          |                                                                                                          hair_color text,                                                                                                 |\n",
       "|       |                        |                        |          |                                                                                                            gender text,                                                                                                   |\n",
       "|       |                        |                        |          |                                                                                                         plate_number text,                                                                                                |\n",
       "|       |                        |                        |          |                                                                                                           car_make text,                                                                                                  |\n",
       "|       |                        |                        |          |                                                                                                           car_model text                                                                                                  |\n",
       "|       |                        |                        |          |                                                                                                               )                                                                                                           |\n",
       "| table | facebook_event_checkin | facebook_event_checkin |    5     |                                                                                           CREATE TABLE facebook_event_checkin (                                                                                           |\n",
       "|       |                        |                        |          |                                                                                                         person_id integer,                                                                                                |\n",
       "|       |                        |                        |          |                                                                                                         event_id integer,                                                                                                 |\n",
       "|       |                        |                        |          |                                                                                                          event_name text,                                                                                                 |\n",
       "|       |                        |                        |          |                                                                                                           date integer,                                                                                                   |\n",
       "|       |                        |                        |          |                                                                                           FOREIGN KEY (person_id) REFERENCES person(id)                                                                                   |\n",
       "|       |                        |                        |          |                                                                                                               )                                                                                                           |\n",
       "| table |       interview        |       interview        |    6     |                                                                                                  CREATE TABLE interview (                                                                                                 |\n",
       "|       |                        |                        |          |                                                                                                         person_id integer,                                                                                                |\n",
       "|       |                        |                        |          |                                                                                                          transcript text,                                                                                                 |\n",
       "|       |                        |                        |          |                                                                                           FOREIGN KEY (person_id) REFERENCES person(id)                                                                                   |\n",
       "|       |                        |                        |          |                                                                                                               )                                                                                                           |\n",
       "| table |   get_fit_now_member   |   get_fit_now_member   |    7     |                                                                                             CREATE TABLE get_fit_now_member (                                                                                             |\n",
       "|       |                        |                        |          |                                                                                                        id text PRIMARY KEY,                                                                                               |\n",
       "|       |                        |                        |          |                                                                                                         person_id integer,                                                                                                |\n",
       "|       |                        |                        |          |                                                                                                             name text,                                                                                                    |\n",
       "|       |                        |                        |          |                                                                                                   membership_start_date integer,                                                                                          |\n",
       "|       |                        |                        |          |                                                                                                      membership_status text,                                                                                              |\n",
       "|       |                        |                        |          |                                                                                           FOREIGN KEY (person_id) REFERENCES person(id)                                                                                   |\n",
       "|       |                        |                        |          |                                                                                                               )                                                                                                           |\n",
       "| table |  get_fit_now_check_in  |  get_fit_now_check_in  |    9     |                                                                                            CREATE TABLE get_fit_now_check_in (                                                                                            |\n",
       "|       |                        |                        |          |                                                                                                        membership_id text,                                                                                                |\n",
       "|       |                        |                        |          |                                                                                                       check_in_date integer,                                                                                              |\n",
       "|       |                        |                        |          |                                                                                                       check_in_time integer,                                                                                              |\n",
       "|       |                        |                        |          |                                                                                                      check_out_time integer,                                                                                              |\n",
       "|       |                        |                        |          |                                                                                   FOREIGN KEY (membership_id) REFERENCES get_fit_now_member(id)                                                                           |\n",
       "|       |                        |                        |          |                                                                                                               )                                                                                                           |\n",
       "| table |        solution        |        solution        |    11    |                                                                                                  CREATE TABLE solution (                                                                                                  |\n",
       "|       |                        |                        |          |                                                                                                           user integer,                                                                                                   |\n",
       "|       |                        |                        |          |                                                                                                             value text                                                                                                    |\n",
       "|       |                        |                        |          |                                                                                                               )                                                                                                           |\n",
       "| table |         income         |         income         |    10    |                                                                             CREATE TABLE income (ssn CHAR PRIMARY KEY, annual_income integer)                                                                             |\n",
       "| table |         person         |         person         |    4     | CREATE TABLE person (id integer PRIMARY KEY, name text, license_id integer, address_number integer, address_street_name text, ssn CHAR REFERENCES income (ssn), FOREIGN KEY (license_id) REFERENCES drivers_license (id)) |\n",
       "+-------+------------------------+------------------------+----------+---------------------------------------------------------------------------------------------------------------------------------------------------------------------------------------------------------------------------+"
      ]
     },
     "execution_count": 5,
     "metadata": {},
     "output_type": "execute_result"
    }
   ],
   "source": [
    "%%sql\n",
    "SELECT *\n",
    "FROM sqlite_master\n",
    "WHERE type = 'table';"
   ]
  },
  {
   "cell_type": "markdown",
   "id": "c71b53aa",
   "metadata": {},
   "source": [
    "\n",
    "Besides knowing the table names, you need to know how each table is structured. The way this works is also dependent upon which database technology you use. Here's how you do it with SQLite.\n",
    "\n",
    "Run this query to find the structure of the `crime_scene_report` table\n",
    "\n",
    "Change the value of 'name' to see the structure of the other tables you learned about with the previous query.\n"
   ]
  },
  {
   "cell_type": "code",
   "execution_count": 6,
   "id": "a977d922",
   "metadata": {},
   "outputs": [
    {
     "data": {
      "text/html": [
       "<span style=\"None\">Running query in &#x27;sqlite:///sql-murder-mystery.db&#x27;</span>"
      ],
      "text/plain": [
       "Running query in 'sqlite:///sql-murder-mystery.db'"
      ]
     },
     "metadata": {},
     "output_type": "display_data"
    },
    {
     "data": {
      "text/html": [
       "<table>\n",
       "    <thead>\n",
       "        <tr>\n",
       "            <th>sql</th>\n",
       "        </tr>\n",
       "    </thead>\n",
       "    <tbody>\n",
       "        <tr>\n",
       "            <td>CREATE TABLE person (id integer PRIMARY KEY, name text, license_id integer, address_number integer, address_street_name text, ssn CHAR REFERENCES income (ssn), FOREIGN KEY (license_id) REFERENCES drivers_license (id))</td>\n",
       "        </tr>\n",
       "    </tbody>\n",
       "</table>"
      ],
      "text/plain": [
       "+---------------------------------------------------------------------------------------------------------------------------------------------------------------------------------------------------------------------------+\n",
       "|                                                                                                            sql                                                                                                            |\n",
       "+---------------------------------------------------------------------------------------------------------------------------------------------------------------------------------------------------------------------------+\n",
       "| CREATE TABLE person (id integer PRIMARY KEY, name text, license_id integer, address_number integer, address_street_name text, ssn CHAR REFERENCES income (ssn), FOREIGN KEY (license_id) REFERENCES drivers_license (id)) |\n",
       "+---------------------------------------------------------------------------------------------------------------------------------------------------------------------------------------------------------------------------+"
      ]
     },
     "execution_count": 6,
     "metadata": {},
     "output_type": "execute_result"
    }
   ],
   "source": [
    "%%sql\n",
    "SELECT sql\n",
    "FROM sqlite_master\n",
    "where name = 'person'"
   ]
  },
  {
   "cell_type": "code",
   "execution_count": 9,
   "id": "8d0f5e6c",
   "metadata": {},
   "outputs": [
    {
     "data": {
      "text/html": [
       "<span style=\"None\">Running query in &#x27;sqlite:///sql-murder-mystery.db&#x27;</span>"
      ],
      "text/plain": [
       "Running query in 'sqlite:///sql-murder-mystery.db'"
      ]
     },
     "metadata": {},
     "output_type": "display_data"
    },
    {
     "data": {
      "text/html": [
       "<table>\n",
       "    <thead>\n",
       "        <tr>\n",
       "            <th>date</th>\n",
       "            <th>type</th>\n",
       "            <th>description</th>\n",
       "            <th>city</th>\n",
       "        </tr>\n",
       "    </thead>\n",
       "    <tbody>\n",
       "        <tr>\n",
       "            <td>20180115</td>\n",
       "            <td>murder</td>\n",
       "            <td>Security footage shows that there were 2 witnesses. The first witness lives at the last house on \"Northwestern Dr\". The second witness, named Annabel, lives somewhere on \"Franklin Ave\".</td>\n",
       "            <td>SQL City</td>\n",
       "        </tr>\n",
       "    </tbody>\n",
       "</table>"
      ],
      "text/plain": [
       "+----------+--------+-------------------------------------------------------------------------------------------------------------------------------------------------------------------------------------------+----------+\n",
       "|   date   |  type  |                                                                                        description                                                                                        |   city   |\n",
       "+----------+--------+-------------------------------------------------------------------------------------------------------------------------------------------------------------------------------------------+----------+\n",
       "| 20180115 | murder | Security footage shows that there were 2 witnesses. The first witness lives at the last house on \"Northwestern Dr\". The second witness, named Annabel, lives somewhere on \"Franklin Ave\". | SQL City |\n",
       "+----------+--------+-------------------------------------------------------------------------------------------------------------------------------------------------------------------------------------------+----------+"
      ]
     },
     "execution_count": 9,
     "metadata": {},
     "output_type": "execute_result"
    }
   ],
   "source": [
    "%%sql\n",
    "\n",
    "SELECT *\n",
    "FROM crime_scene_report\n",
    "WHERE date = 20180115\n",
    "AND type = 'murder'\n",
    "AND city = 'SQL City';"
   ]
  },
  {
   "cell_type": "code",
   "execution_count": 63,
   "id": "4ed9e476",
   "metadata": {},
   "outputs": [
    {
     "data": {
      "text/html": [
       "<span style=\"None\">Running query in &#x27;sqlite:///sql-murder-mystery.db&#x27;</span>"
      ],
      "text/plain": [
       "Running query in 'sqlite:///sql-murder-mystery.db'"
      ]
     },
     "metadata": {},
     "output_type": "display_data"
    },
    {
     "data": {
      "text/html": [
       "<table>\n",
       "    <thead>\n",
       "        <tr>\n",
       "            <th>name</th>\n",
       "            <th>address_number</th>\n",
       "            <th>address_street_name</th>\n",
       "        </tr>\n",
       "    </thead>\n",
       "    <tbody>\n",
       "        <tr>\n",
       "            <td>Annabel Miller</td>\n",
       "            <td>103</td>\n",
       "            <td>Franklin Ave</td>\n",
       "        </tr>\n",
       "    </tbody>\n",
       "</table>"
      ],
      "text/plain": [
       "+----------------+----------------+---------------------+\n",
       "|      name      | address_number | address_street_name |\n",
       "+----------------+----------------+---------------------+\n",
       "| Annabel Miller |      103       |     Franklin Ave    |\n",
       "+----------------+----------------+---------------------+"
      ]
     },
     "execution_count": 63,
     "metadata": {},
     "output_type": "execute_result"
    }
   ],
   "source": [
    "%%sql\n",
    "\n",
    "SELECT name, address_number, address_street_name\n",
    "FROM person\n",
    "WHERE address_street_name = 'Franklin Ave'\n",
    "AND name LIKE '%Annabel%';"
   ]
  },
  {
   "cell_type": "code",
   "execution_count": 21,
   "id": "6c1973b6",
   "metadata": {},
   "outputs": [
    {
     "data": {
      "text/html": [
       "<span style=\"None\">Running query in &#x27;sqlite:///sql-murder-mystery.db&#x27;</span>"
      ],
      "text/plain": [
       "Running query in 'sqlite:///sql-murder-mystery.db'"
      ]
     },
     "metadata": {},
     "output_type": "display_data"
    },
    {
     "data": {
      "text/html": [
       "<table>\n",
       "    <thead>\n",
       "        <tr>\n",
       "            <th>name</th>\n",
       "            <th>transcript</th>\n",
       "        </tr>\n",
       "    </thead>\n",
       "    <tbody>\n",
       "        <tr>\n",
       "            <td>Morty Schapiro</td>\n",
       "            <td>I heard a gunshot and then saw a man run out. He had a \"Get Fit Now Gym\" bag. The membership number on the bag started with \"48Z\". Only gold members have those bags. The man got into a car with a plate that included \"H42W\".</td>\n",
       "        </tr>\n",
       "        <tr>\n",
       "            <td>Annabel Miller</td>\n",
       "            <td>I saw the murder happen, and I recognized the killer from my gym when I was working out last week on January the 9th.</td>\n",
       "        </tr>\n",
       "    </tbody>\n",
       "</table>"
      ],
      "text/plain": [
       "+----------------+---------------------------------------------------------------------------------------------------------------------------------------------------------------------------------------------------------------------------------+\n",
       "|      name      |                                                                                                            transcript                                                                                                           |\n",
       "+----------------+---------------------------------------------------------------------------------------------------------------------------------------------------------------------------------------------------------------------------------+\n",
       "| Morty Schapiro | I heard a gunshot and then saw a man run out. He had a \"Get Fit Now Gym\" bag. The membership number on the bag started with \"48Z\". Only gold members have those bags. The man got into a car with a plate that included \"H42W\". |\n",
       "| Annabel Miller |                                                      I saw the murder happen, and I recognized the killer from my gym when I was working out last week on January the 9th.                                                      |\n",
       "+----------------+---------------------------------------------------------------------------------------------------------------------------------------------------------------------------------------------------------------------------------+"
      ]
     },
     "execution_count": 21,
     "metadata": {},
     "output_type": "execute_result"
    }
   ],
   "source": [
    "%%sql\n",
    "\n",
    "SELECT name, transcript\n",
    "FROM person p JOIN interview i\n",
    "ON p.id = i.person_id\n",
    "WHERE name = 'Morty Schapiro' OR name = 'Annabel Miller';\n"
   ]
  },
  {
   "cell_type": "code",
   "execution_count": 27,
   "id": "e4e65461",
   "metadata": {},
   "outputs": [
    {
     "data": {
      "text/html": [
       "<span style=\"None\">Running query in &#x27;sqlite:///sql-murder-mystery.db&#x27;</span>"
      ],
      "text/plain": [
       "Running query in 'sqlite:///sql-murder-mystery.db'"
      ]
     },
     "metadata": {},
     "output_type": "display_data"
    },
    {
     "data": {
      "text/html": [
       "<table>\n",
       "    <thead>\n",
       "        <tr>\n",
       "            <th>name</th>\n",
       "            <th>membership_id</th>\n",
       "            <th>membership_status</th>\n",
       "        </tr>\n",
       "    </thead>\n",
       "    <tbody>\n",
       "        <tr>\n",
       "            <td>Joe Germuska</td>\n",
       "            <td>48Z7A</td>\n",
       "            <td>gold</td>\n",
       "        </tr>\n",
       "        <tr>\n",
       "            <td>Jeremy Bowers</td>\n",
       "            <td>48Z55</td>\n",
       "            <td>gold</td>\n",
       "        </tr>\n",
       "    </tbody>\n",
       "</table>"
      ],
      "text/plain": [
       "+---------------+---------------+-------------------+\n",
       "|      name     | membership_id | membership_status |\n",
       "+---------------+---------------+-------------------+\n",
       "|  Joe Germuska |     48Z7A     |        gold       |\n",
       "| Jeremy Bowers |     48Z55     |        gold       |\n",
       "+---------------+---------------+-------------------+"
      ]
     },
     "execution_count": 27,
     "metadata": {},
     "output_type": "execute_result"
    }
   ],
   "source": [
    "%%sql\n",
    "\n",
    "SELECT name, membership_id, membership_status\n",
    "FROM get_fit_now_member m JOIN get_fit_now_check_in c\n",
    "ON m.id = c.membership_id\n",
    "WHERE check_in_date = 20180109\n",
    "AND membership_status = 'gold'\n",
    "AND membership_id LIKE '48Z%';\n"
   ]
  },
  {
   "cell_type": "code",
   "execution_count": 28,
   "id": "03141322",
   "metadata": {},
   "outputs": [
    {
     "data": {
      "text/html": [
       "<span style=\"None\">Running query in &#x27;sqlite:///sql-murder-mystery.db&#x27;</span>"
      ],
      "text/plain": [
       "Running query in 'sqlite:///sql-murder-mystery.db'"
      ]
     },
     "metadata": {},
     "output_type": "display_data"
    },
    {
     "data": {
      "text/html": [
       "<table>\n",
       "    <thead>\n",
       "        <tr>\n",
       "            <th>name</th>\n",
       "            <th>plate_number</th>\n",
       "        </tr>\n",
       "    </thead>\n",
       "    <tbody>\n",
       "        <tr>\n",
       "            <td>Tushar Chandra</td>\n",
       "            <td>4H42WR</td>\n",
       "        </tr>\n",
       "        <tr>\n",
       "            <td>Jeremy Bowers</td>\n",
       "            <td>0H42W2</td>\n",
       "        </tr>\n",
       "        <tr>\n",
       "            <td>Maxine Whitely</td>\n",
       "            <td>H42W0X</td>\n",
       "        </tr>\n",
       "    </tbody>\n",
       "</table>"
      ],
      "text/plain": [
       "+----------------+--------------+\n",
       "|      name      | plate_number |\n",
       "+----------------+--------------+\n",
       "| Tushar Chandra |    4H42WR    |\n",
       "| Jeremy Bowers  |    0H42W2    |\n",
       "| Maxine Whitely |    H42W0X    |\n",
       "+----------------+--------------+"
      ]
     },
     "execution_count": 28,
     "metadata": {},
     "output_type": "execute_result"
    }
   ],
   "source": [
    "%%sql\n",
    "\n",
    "SELECT name, plate_number\n",
    "FROM person p JOIN drivers_license d\n",
    "ON p.license_id = d.id\n",
    "WHERE plate_number LIKE \"%H42W%\";"
   ]
  },
  {
   "cell_type": "markdown",
   "id": "d9789bc7",
   "metadata": {},
   "source": [
    "\n",
    "### The rest is up to you!\n",
    "\n",
    "If you're really comfortable with SQL, you can probably get it from here. To help, here is the schema diagram:\n",
    "\n",
    "![schema diagram](schema.png)\n",
    "\n",
    "Use your knowledge of the database schema and SQL commands to find out who committed the murder.\n",
    "### Check your solution\n",
    "\n",
    "Did you find the killer? When you think you know the answer, submit your suspect using the following code and find out if you're right.\n"
   ]
  },
  {
   "cell_type": "code",
   "execution_count": 56,
   "id": "830ea4a6",
   "metadata": {},
   "outputs": [
    {
     "data": {
      "text/html": [
       "<span style=\"None\">Running query in &#x27;sqlite:///sql-murder-mystery.db&#x27;</span>"
      ],
      "text/plain": [
       "Running query in 'sqlite:///sql-murder-mystery.db'"
      ]
     },
     "metadata": {},
     "output_type": "display_data"
    },
    {
     "data": {
      "text/html": [
       "<span style=\"color: green\">1 rows affected.</span>"
      ],
      "text/plain": [
       "1 rows affected."
      ]
     },
     "metadata": {},
     "output_type": "display_data"
    },
    {
     "data": {
      "text/html": [
       "<table>\n",
       "    <thead>\n",
       "        <tr>\n",
       "            <th>value</th>\n",
       "        </tr>\n",
       "    </thead>\n",
       "    <tbody>\n",
       "        <tr>\n",
       "            <td>Congrats, you found the brains behind the murder! Everyone in SQL City hails you as the greatest SQL detective of all time. Time to break out the champagne!</td>\n",
       "        </tr>\n",
       "    </tbody>\n",
       "</table>"
      ],
      "text/plain": [
       "+--------------------------------------------------------------------------------------------------------------------------------------------------------------+\n",
       "|                                                                            value                                                                             |\n",
       "+--------------------------------------------------------------------------------------------------------------------------------------------------------------+\n",
       "| Congrats, you found the brains behind the murder! Everyone in SQL City hails you as the greatest SQL detective of all time. Time to break out the champagne! |\n",
       "+--------------------------------------------------------------------------------------------------------------------------------------------------------------+"
      ]
     },
     "execution_count": 56,
     "metadata": {},
     "output_type": "execute_result"
    }
   ],
   "source": [
    "%%sql\n",
    "INSERT INTO solution VALUES (1, 'Miranda Priestly');\n",
    "SELECT value FROM solution;"
   ]
  },
  {
   "cell_type": "code",
   "execution_count": 31,
   "id": "2556f5f8",
   "metadata": {},
   "outputs": [
    {
     "data": {
      "text/html": [
       "<span style=\"None\">Running query in &#x27;sqlite:///sql-murder-mystery.db&#x27;</span>"
      ],
      "text/plain": [
       "Running query in 'sqlite:///sql-murder-mystery.db'"
      ]
     },
     "metadata": {},
     "output_type": "display_data"
    },
    {
     "data": {
      "text/html": [
       "<table>\n",
       "    <thead>\n",
       "        <tr>\n",
       "            <th>name</th>\n",
       "            <th>transcript</th>\n",
       "        </tr>\n",
       "    </thead>\n",
       "    <tbody>\n",
       "        <tr>\n",
       "            <td>Jeremy Bowers</td>\n",
       "            <td>I was hired by a woman with a lot of money. I don't know her name but I know she's around 5'5\" (65\") or 5'7\" (67\"). She has red hair and she drives a Tesla Model S. I know that she attended the SQL Symphony Concert 3 times in December 2017.<br></td>\n",
       "        </tr>\n",
       "    </tbody>\n",
       "</table>"
      ],
      "text/plain": [
       "+---------------+--------------------------------------------------------------------------------------------------------------------------------------------------------------------------------------------------------------------------------------------------+\n",
       "|      name     |                                                                                                                    transcript                                                                                                                    |\n",
       "+---------------+--------------------------------------------------------------------------------------------------------------------------------------------------------------------------------------------------------------------------------------------------+\n",
       "| Jeremy Bowers | I was hired by a woman with a lot of money. I don't know her name but I know she's around 5'5\" (65\") or 5'7\" (67\"). She has red hair and she drives a Tesla Model S. I know that she attended the SQL Symphony Concert 3 times in December 2017. |\n",
       "|               |                                                                                                                                                                                                                                                  |\n",
       "+---------------+--------------------------------------------------------------------------------------------------------------------------------------------------------------------------------------------------------------------------------------------------+"
      ]
     },
     "execution_count": 31,
     "metadata": {},
     "output_type": "execute_result"
    }
   ],
   "source": [
    "%%sql\n",
    "\n",
    "SELECT name, transcript\n",
    "FROM person p JOIN interview i\n",
    "ON p.id = i.person_id\n",
    "WHERE name = 'Jeremy Bowers';"
   ]
  },
  {
   "cell_type": "code",
   "execution_count": 62,
   "id": "10042229",
   "metadata": {},
   "outputs": [
    {
     "data": {
      "text/html": [
       "<span style=\"None\">Running query in &#x27;sqlite:///sql-murder-mystery.db&#x27;</span>"
      ],
      "text/plain": [
       "Running query in 'sqlite:///sql-murder-mystery.db'"
      ]
     },
     "metadata": {},
     "output_type": "display_data"
    },
    {
     "data": {
      "text/html": [
       "<table>\n",
       "    <thead>\n",
       "        <tr>\n",
       "            <th>name</th>\n",
       "            <th>height</th>\n",
       "            <th>hair_color</th>\n",
       "            <th>gender</th>\n",
       "            <th>car_make</th>\n",
       "            <th>car_model</th>\n",
       "        </tr>\n",
       "    </thead>\n",
       "    <tbody>\n",
       "        <tr>\n",
       "            <td>Red Korb</td>\n",
       "            <td>65</td>\n",
       "            <td>red</td>\n",
       "            <td>female</td>\n",
       "            <td>Tesla</td>\n",
       "            <td>Model S</td>\n",
       "        </tr>\n",
       "        <tr>\n",
       "            <td>Regina George</td>\n",
       "            <td>66</td>\n",
       "            <td>red</td>\n",
       "            <td>female</td>\n",
       "            <td>Tesla</td>\n",
       "            <td>Model S</td>\n",
       "        </tr>\n",
       "        <tr>\n",
       "            <td>Miranda Priestly</td>\n",
       "            <td>66</td>\n",
       "            <td>red</td>\n",
       "            <td>female</td>\n",
       "            <td>Tesla</td>\n",
       "            <td>Model S</td>\n",
       "        </tr>\n",
       "    </tbody>\n",
       "</table>"
      ],
      "text/plain": [
       "+------------------+--------+------------+--------+----------+-----------+\n",
       "|       name       | height | hair_color | gender | car_make | car_model |\n",
       "+------------------+--------+------------+--------+----------+-----------+\n",
       "|     Red Korb     |   65   |    red     | female |  Tesla   |  Model S  |\n",
       "|  Regina George   |   66   |    red     | female |  Tesla   |  Model S  |\n",
       "| Miranda Priestly |   66   |    red     | female |  Tesla   |  Model S  |\n",
       "+------------------+--------+------------+--------+----------+-----------+"
      ]
     },
     "execution_count": 62,
     "metadata": {},
     "output_type": "execute_result"
    }
   ],
   "source": [
    "%%sql\n",
    "\n",
    "SELECT name, height, hair_color, gender, car_make, car_model\n",
    "FROM person p JOIN drivers_license d\n",
    "ON p.license_id = d.id\n",
    "WHERE height IN (65, 66, 67)\n",
    "AND hair_color = 'red'\n",
    "AND gender = 'female'\n",
    "AND car_make = 'Tesla'\n",
    "AND car_model = 'Model S';"
   ]
  },
  {
   "cell_type": "code",
   "execution_count": 71,
   "id": "51a3114b",
   "metadata": {},
   "outputs": [
    {
     "data": {
      "text/html": [
       "<span style=\"None\">Running query in &#x27;sqlite:///sql-murder-mystery.db&#x27;</span>"
      ],
      "text/plain": [
       "Running query in 'sqlite:///sql-murder-mystery.db'"
      ]
     },
     "metadata": {},
     "output_type": "display_data"
    },
    {
     "data": {
      "text/html": [
       "<table>\n",
       "    <thead>\n",
       "        <tr>\n",
       "            <th>name</th>\n",
       "            <th>event_count</th>\n",
       "        </tr>\n",
       "    </thead>\n",
       "    <tbody>\n",
       "        <tr>\n",
       "            <td>Bryan Pardo</td>\n",
       "            <td>3</td>\n",
       "        </tr>\n",
       "        <tr>\n",
       "            <td>Miranda Priestly</td>\n",
       "            <td>3</td>\n",
       "        </tr>\n",
       "    </tbody>\n",
       "</table>"
      ],
      "text/plain": [
       "+------------------+-------------+\n",
       "|       name       | event_count |\n",
       "+------------------+-------------+\n",
       "|   Bryan Pardo    |      3      |\n",
       "| Miranda Priestly |      3      |\n",
       "+------------------+-------------+"
      ]
     },
     "execution_count": 71,
     "metadata": {},
     "output_type": "execute_result"
    }
   ],
   "source": [
    "%%sql\n",
    "\n",
    "WITH filtered as (\n",
    "    SELECT name, event_name, date\n",
    "FROM person p JOIN facebook_event_checkin f\n",
    "ON p.id = f.person_id\n",
    "WHERE event_name = 'SQL Symphony Concert'\n",
    "AND date > 20171201 AND date < 20171231\n",
    ")\n",
    "\n",
    "SELECT name, COUNT(event_name) as event_count\n",
    "FROM filtered\n",
    "GROUP BY name\n",
    "HAVING event_count = 3;\n"
   ]
  }
 ],
 "metadata": {
  "kernelspec": {
   "display_name": "Python 3",
   "language": "python",
   "name": "python3"
  },
  "language_info": {
   "codemirror_mode": {
    "name": "ipython",
    "version": 3
   },
   "file_extension": ".py",
   "mimetype": "text/x-python",
   "name": "python",
   "nbconvert_exporter": "python",
   "pygments_lexer": "ipython3",
   "version": "3.12.1"
  }
 },
 "nbformat": 4,
 "nbformat_minor": 5
}
